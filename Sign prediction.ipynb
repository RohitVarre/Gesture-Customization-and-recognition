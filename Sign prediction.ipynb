{
 "cells": [
  {
   "cell_type": "code",
   "execution_count": 36,
   "metadata": {},
   "outputs": [],
   "source": [
    "from keras.models import load_model\n",
    "import os\n",
    "import cv2\n",
    "import numpy as np"
   ]
  },
  {
   "cell_type": "code",
   "execution_count": 37,
   "metadata": {},
   "outputs": [
    {
     "name": "stdout",
     "output_type": "stream",
     "text": [
      "Model: \"sequential_4\"\n",
      "_________________________________________________________________\n",
      "Layer (type)                 Output Shape              Param #   \n",
      "=================================================================\n",
      "conv2d_5 (Conv2D)            (None, 46, 46, 32)        832       \n",
      "_________________________________________________________________\n",
      "max_pooling2d_5 (MaxPooling2 (None, 23, 23, 32)        0         \n",
      "_________________________________________________________________\n",
      "conv2d_6 (Conv2D)            (None, 19, 19, 64)        51264     \n",
      "_________________________________________________________________\n",
      "max_pooling2d_6 (MaxPooling2 (None, 4, 4, 64)          0         \n",
      "_________________________________________________________________\n",
      "flatten_3 (Flatten)          (None, 1024)              0         \n",
      "_________________________________________________________________\n",
      "dense_5 (Dense)              (None, 1024)              1049600   \n",
      "_________________________________________________________________\n",
      "dropout_3 (Dropout)          (None, 1024)              0         \n",
      "_________________________________________________________________\n",
      "dense_6 (Dense)              (None, 3)                 3075      \n",
      "=================================================================\n",
      "Total params: 1,104,771\n",
      "Trainable params: 1,104,771\n",
      "Non-trainable params: 0\n",
      "_________________________________________________________________\n"
     ]
    }
   ],
   "source": [
    "model = load_model('handgesmodel.h5')\n",
    "model.summary()"
   ]
  },
  {
   "cell_type": "code",
   "execution_count": 38,
   "metadata": {},
   "outputs": [],
   "source": [
    "path = 'gestureimgs'\n",
    "imgs=[]\n",
    "for i in (os.listdir(path)):\n",
    "    img_path = os.path.join(path,i)\n",
    "    img = cv2.imread(img_path)\n",
    "    img = cv2.resize(img, (500,500))\n",
    "    imgs.append(img)"
   ]
  },
  {
   "cell_type": "code",
   "execution_count": 39,
   "metadata": {},
   "outputs": [],
   "source": [
    "code = np.arange(0,3)\n",
    "label = dict(zip(code,imgs))"
   ]
  },
  {
   "cell_type": "code",
   "execution_count": 40,
   "metadata": {},
   "outputs": [],
   "source": [
    "cap = cv2.VideoCapture(0)\n",
    "x,y,w,h = 300,50,350,350\n",
    "while cap.isOpened():\n",
    "    ret,frame = cap.read()\n",
    "    frame = cv2.flip(frame,1)\n",
    "    hsv = cv2.cvtColor(frame,cv2.COLOR_BGR2HSV)\n",
    "    mask2 = cv2.inRange(hsv, np.array([60,55,200]), np.array([120,110,255]))\n",
    "    res = cv2.bitwise_and(frame,frame,mask=mask2)\n",
    "    gray = cv2.cvtColor(res, cv2.COLOR_BGR2GRAY)\n",
    "    median = cv2.GaussianBlur(gray, (5,5), 0)\n",
    "      \n",
    "    kernel_square = np.ones((5,5), np.uint8)\n",
    "    dilation = cv2.dilate(median, kernel_square, iterations=2)\n",
    "    opening = cv2.morphologyEx(dilation, cv2.MORPH_CLOSE, kernel_square)\n",
    "      \n",
    "    ret,thresh = cv2.threshold(opening, 30, 255, cv2.THRESH_BINARY)\n",
    "    thresh = thresh[y:y+h, x:x+w]\n",
    "    contours = cv2.findContours(thresh.copy(),cv2.RETR_TREE, cv2.CHAIN_APPROX_NONE)[1]\n",
    "    cv2.rectangle(frame, (x,y), (x+w,y+h), (0,255,0), 2)\n",
    "    cv2.imshow(\"Capturing gesture...\",frame)\n",
    "    \n",
    "    if len(contours)>0:\n",
    "        contour = max(contours, key=cv2.contourArea)\n",
    "        if cv2.contourArea(contour) > 2500:\n",
    "            x1, y1, w1, h1 = cv2.boundingRect(contour)\n",
    "            final_img = thresh[y1:y1+h, x1:x1+w1]\n",
    "            final_img = cv2.resize(final_img,(50,50))\n",
    "            final_img = np.reshape(final_img, (1,50,50,1))\n",
    "            out = model.predict(final_img)\n",
    "            output=np.argmax(out,axis=1)[0]\n",
    "            cv2.imshow('THRESH',thresh)\n",
    "            cv2.imshow('Output',label[output])\n",
    "            \n",
    "    key=cv2.waitKey(1)\n",
    "    if key==27:\n",
    "        break\n",
    "\n",
    "cv2.destroyAllWindows()\n",
    "cap.release()"
   ]
  },
  {
   "cell_type": "code",
   "execution_count": null,
   "metadata": {},
   "outputs": [],
   "source": []
  }
 ],
 "metadata": {
  "kernelspec": {
   "display_name": "Python 3",
   "language": "python",
   "name": "python3"
  },
  "language_info": {
   "codemirror_mode": {
    "name": "ipython",
    "version": 3
   },
   "file_extension": ".py",
   "mimetype": "text/x-python",
   "name": "python",
   "nbconvert_exporter": "python",
   "pygments_lexer": "ipython3",
   "version": "3.7.6"
  }
 },
 "nbformat": 4,
 "nbformat_minor": 4
}
